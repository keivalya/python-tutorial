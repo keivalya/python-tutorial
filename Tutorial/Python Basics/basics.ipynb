{
 "cells": [
  {
   "cell_type": "markdown",
   "metadata": {},
   "source": [
    "# Python Basics"
   ]
  },
  {
   "cell_type": "markdown",
   "metadata": {},
   "source": [
    "## Variables and Datatypes"
   ]
  },
  {
   "cell_type": "code",
   "execution_count": null,
   "metadata": {},
   "outputs": [],
   "source": [
    "print(\"There is a lady named Jayati,\")\n",
    "print(\"who studies IT, and is also a cat mom.\")\n",
    "print(\"She hates programming,\")\n",
    "print(\"but loves Gopu a lot.\")"
   ]
  },
  {
   "cell_type": "markdown",
   "metadata": {},
   "source": [
    "### Creating Variables"
   ]
  },
  {
   "cell_type": "code",
   "execution_count": null,
   "metadata": {},
   "outputs": [],
   "source": [
    "name = \"Jayati\" # string\n",
    "age = 20 # integer\n",
    "is_female = True # boolean\n",
    "hates_what = \"programming\"\n",
    "loves_what = \"Gopu\"\n",
    "\n",
    "print(\"There is a lady named, \" + name + \", \")\n",
    "print(\"She is 20 years old.\")\n",
    "print(\"She hates programming,\")\n",
    "print(\"but loves Gopu a lot.\")"
   ]
  },
  {
   "cell_type": "markdown",
   "metadata": {},
   "source": [
    "### Output Variables\n",
    "The Python `print` statement is often used to output variables."
   ]
  },
  {
   "cell_type": "code",
   "execution_count": null,
   "metadata": {},
   "outputs": [],
   "source": [
    "# combine strings in print function\n",
    "x = \"easy-peasy!\"\n",
    "print(\"Python is \" + x)\n",
    "\n",
    "# combine strings outside of print\n",
    "x = \"Python is \"\n",
    "y = \"ugh, eajjyyyyyyy\"\n",
    "z =  x + y\n",
    "print(z)\n",
    "\n",
    "# Mathematical operations\n",
    "x = 5\n",
    "y = 10\n",
    "print(x + y)\n",
    "\n",
    "# NOT ALLOWED AT ALL!\n",
    "x = 5\n",
    "y = \"John\"\n",
    "print(x + y)"
   ]
  },
  {
   "cell_type": "markdown",
   "metadata": {},
   "source": [
    "### Global Variables\n",
    "Variables that are created outside of a function (as in all of the examples above) are known as global variables.\n",
    "Global variables can be used by everyone, both inside of functions and outside."
   ]
  },
  {
   "cell_type": "code",
   "execution_count": null,
   "metadata": {},
   "outputs": [],
   "source": [
    "# Create a variable outside of a function, and use it inside the function\n",
    "x = \"my favourite!\"\n",
    "\n",
    "def myfunc():\n",
    "  print(\"Python is \" + x)\n",
    "\n",
    "myfunc()"
   ]
  },
  {
   "cell_type": "markdown",
   "metadata": {},
   "source": [
    "### Built-in Data Types\n",
    "\n",
    "- Text Type:\t`str`\n",
    "- Numeric Types:\t`int`, `float`, `complex`\n",
    "- Sequence Types:\t`list`, `tuple`, `range`\n",
    "- Mapping Type:\t`dict`\n",
    "- Set Types:\t`set`, `frozenset`\n",
    "- Boolean Type:\t`bool`\n",
    "- Binary Types:\t`bytes`, `bytearray`, `memoryview`"
   ]
  },
  {
   "cell_type": "code",
   "execution_count": null,
   "metadata": {},
   "outputs": [],
   "source": [
    "# You can get the data type of any object by using the type() function:\n",
    "x = 9\n",
    "print(type(x))"
   ]
  },
  {
   "cell_type": "markdown",
   "metadata": {},
   "source": [
    "### Py Numbers\n",
    "Variables of numeric types are created when you assign a value to them:"
   ]
  },
  {
   "cell_type": "code",
   "execution_count": null,
   "metadata": {},
   "outputs": [],
   "source": [
    "x = 1    # int\n",
    "y = 2.8  # float\n",
    "z = 1j   # complex"
   ]
  },
  {
   "cell_type": "code",
   "execution_count": null,
   "metadata": {},
   "outputs": [],
   "source": [
    "# Random Number\n",
    "import random\n",
    "print(random.randrange(1, 10))"
   ]
  },
  {
   "cell_type": "markdown",
   "metadata": {},
   "source": [
    "### Py Casting\n",
    "Specifying variable type:"
   ]
  },
  {
   "cell_type": "code",
   "execution_count": null,
   "metadata": {},
   "outputs": [],
   "source": [
    "x = int(1)   # x will be 1\n",
    "y = int(2.8) # y will be 2\n",
    "z = int(\"3\") # z will be 3\n",
    "\n",
    "\n",
    "a = float(1)     # x will be 1.0\n",
    "b = float(2.8)   # y will be 2.8\n",
    "c = float(\"3\")   # z will be 3.0\n",
    "d = float(\"4.2\") # w will be 4.2\n",
    "\n",
    "k = str(\"s1\") # x will be 's1'\n",
    "l = str(2)    # y will be '2'\n",
    "m = str(3.0)  # z will be '3.0'"
   ]
  },
  {
   "cell_type": "markdown",
   "metadata": {},
   "source": [
    "### Strings\n",
    "#### Looping through a string\n",
    "Since strings are arrays, we can loop through the characters in a string, with a `for` loop."
   ]
  },
  {
   "cell_type": "code",
   "execution_count": null,
   "metadata": {},
   "outputs": [],
   "source": [
    "for x in \"Heavens\":\n",
    "  print(x)"
   ]
  },
  {
   "cell_type": "markdown",
   "metadata": {},
   "source": [
    "#### String Length\n",
    "To get the length of a string, use the `len()` function."
   ]
  },
  {
   "cell_type": "code",
   "execution_count": null,
   "metadata": {},
   "outputs": [],
   "source": [
    "a = \"Hello, World!\"\n",
    "print(len(a))"
   ]
  },
  {
   "cell_type": "markdown",
   "metadata": {},
   "source": [
    "#### Check String\n",
    "To check if a certain phrase or character is present in a string, we can use the keyword `in`."
   ]
  },
  {
   "cell_type": "code",
   "execution_count": null,
   "metadata": {},
   "outputs": [],
   "source": [
    "txt = \"The best things in life are free!\"\n",
    "print(\"free\" in txt)\n",
    "\n",
    "# Use it in an if statement:\n",
    "txt = \"The best things in life are free!\"\n",
    "if \"free\" in txt:\n",
    "  print(\"Yes, 'free' is present.\")\n",
    "\n",
    "#################################################3\n",
    "# Check if NOT\n",
    "txt = \"The best things in life are free!\"\n",
    "print(\"expensive\" not in txt)\n",
    "\n",
    "# Use it in an if statement:\n",
    "txt = \"The best things in life are free!\"\n",
    "if \"expensive\" not in txt:\n",
    "  print(\"No, 'expensive' is NOT present.\")"
   ]
  },
  {
   "cell_type": "markdown",
   "metadata": {},
   "source": []
  }
 ],
 "metadata": {
  "language_info": {
   "name": "python"
  },
  "orig_nbformat": 4
 },
 "nbformat": 4,
 "nbformat_minor": 2
}
