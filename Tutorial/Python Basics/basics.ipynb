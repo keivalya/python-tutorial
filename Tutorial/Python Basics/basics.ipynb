{
 "cells": [
  {
   "cell_type": "markdown",
   "metadata": {},
   "source": [
    "# Python Basics"
   ]
  },
  {
   "cell_type": "markdown",
   "metadata": {},
   "source": [
    "## Variables and Datatypes"
   ]
  },
  {
   "cell_type": "code",
   "execution_count": null,
   "metadata": {},
   "outputs": [],
   "source": [
    "print(\"There is a lady named Jayati,\")\n",
    "print(\"who studies IT, and is also a cat mom.\")\n",
    "print(\"She hates programming,\")\n",
    "print(\"but loves Gopu a lot.\")"
   ]
  },
  {
   "cell_type": "markdown",
   "metadata": {},
   "source": [
    "### Creating Variables"
   ]
  },
  {
   "cell_type": "code",
   "execution_count": null,
   "metadata": {},
   "outputs": [],
   "source": [
    "name = \"Jayati\" # string\n",
    "age = 20 # integer\n",
    "is_female = True # boolean\n",
    "hates_what = \"programming\"\n",
    "loves_what = \"Gopu\"\n",
    "\n",
    "print(\"There is a lady named, \" + name + \", \")\n",
    "print(\"She is 20 years old.\")\n",
    "print(\"She hates programming,\")\n",
    "print(\"but loves Gopu a lot.\")"
   ]
  },
  {
   "cell_type": "markdown",
   "metadata": {},
   "source": [
    "### Output Variables\n",
    "The Python `print` statement is often used to output variables."
   ]
  },
  {
   "cell_type": "code",
   "execution_count": null,
   "metadata": {},
   "outputs": [],
   "source": [
    "# combine strings in print function\n",
    "x = \"easy-peasy!\"\n",
    "print(\"Python is \" + x)\n",
    "\n",
    "# combine strings outside of print\n",
    "x = \"Python is \"\n",
    "y = \"ugh, eajjyyyyyyy\"\n",
    "z =  x + y\n",
    "print(z)\n",
    "\n",
    "# Mathematical operations\n",
    "x = 5\n",
    "y = 10\n",
    "print(x + y)\n",
    "\n",
    "# NOT ALLOWED AT ALL!\n",
    "x = 5\n",
    "y = \"John\"\n",
    "print(x + y)"
   ]
  },
  {
   "cell_type": "markdown",
   "metadata": {},
   "source": [
    "### Global Variables\n",
    "Variables that are created outside of a function (as in all of the examples above) are known as global variables.\n",
    "Global variables can be used by everyone, both inside of functions and outside."
   ]
  },
  {
   "cell_type": "code",
   "execution_count": null,
   "metadata": {},
   "outputs": [],
   "source": [
    "# Create a variable outside of a function, and use it inside the function\n",
    "x = \"my favourite!\"\n",
    "\n",
    "def myfunc():\n",
    "  print(\"Python is \" + x)\n",
    "\n",
    "myfunc()"
   ]
  }
 ],
 "metadata": {
  "language_info": {
   "name": "python"
  },
  "orig_nbformat": 4
 },
 "nbformat": 4,
 "nbformat_minor": 2
}
