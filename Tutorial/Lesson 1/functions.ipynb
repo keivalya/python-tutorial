{
 "cells": [
  {
   "cell_type": "markdown",
   "metadata": {},
   "source": [
    "# Funciton in Py\n",
    "## Intro\n",
    "*   A function is a block of code which only runs when it is called. It performs a specific task.\n",
    "*   You can pass data, known as parameters, into a function.\n",
    "*   A function can return data as a result to the calling function."
   ]
  },
  {
   "cell_type": "markdown",
   "metadata": {},
   "source": [
    "### Python Sample program to display the use of functions:\n",
    "```\n",
    "#This function checks whether the entered number is a multiple of 5 or not:\n",
    "def check( x ):\n",
    "    if (x % 5 == 0):\n",
    "        print \"Yes\"\n",
    "    else:\n",
    "        print \"No\"\n",
    "\n",
    "#Driver code\n",
    "check(2)\n",
    "check(3)\n",
    "```"
   ]
  },
  {
   "cell_type": "markdown",
   "metadata": {},
   "source": [
    "In python we can also assign functions to variables\n",
    "\n",
    "```\n",
    "evenOdd = check\n",
    "#Driver code\n",
    "evenOdd(2)\n",
    "evenOdd(3)\n",
    "#the output will be same as of previous function calls: check(2) , check(3)\n",
    "\n",
    "```"
   ]
  },
  {
   "cell_type": "markdown",
   "metadata": {},
   "source": [
    "## Creating a Function\n",
    "\n",
    "In Python a function is defined using the `def` keyword:\n",
    "\n",
    "\n",
    "```\n",
    "def my_function():\n",
    "  print(\"I am a Function\")\n",
    "```\n",
    "\n",
    "\n",
    "\n",
    "## Calling a Function\n",
    "\n",
    "To call a function, use the function name followed by parenthesis:\n",
    "\n",
    "\n",
    "```\n",
    "def my_function():\n",
    "  print(\"Hello from a function\")\n",
    "\n",
    "my_function()\n",
    "```\n"
   ]
  },
  {
   "cell_type": "markdown",
   "metadata": {},
   "source": [
    "#### With this short and crisp refresher on functions in python, the Lesson will now walk you through some in-built functions in python. It is expected that you have preliminary programming knowledge (Iterators, Conditions, Syntax, Semantics, etc.)"
   ]
  },
  {
   "cell_type": "markdown",
   "metadata": {},
   "source": []
  }
 ],
 "metadata": {
  "language_info": {
   "name": "python"
  },
  "orig_nbformat": 4
 },
 "nbformat": 4,
 "nbformat_minor": 2
}
